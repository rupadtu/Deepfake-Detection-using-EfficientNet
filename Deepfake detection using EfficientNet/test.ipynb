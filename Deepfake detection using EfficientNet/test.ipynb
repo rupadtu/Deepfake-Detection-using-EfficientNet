{
 "cells": [
  {
   "cell_type": "code",
   "execution_count": null,
   "id": "fa8255f7-cda8-4476-8492-964c93464f60",
   "metadata": {},
   "outputs": [],
   "source": [
    "import torch\n",
    "from torch.utils.data import DataLoader\n",
    "from torchvision import transforms\n",
    "from dataset import DeepfakeDataset\n",
    "from model import EfficientNetModel\n",
    "from config import Config\n",
    "import pandas as pd\n",
    "\n",
    "def test_model():\n",
    "    transform = transforms.Compose([\n",
    "        transforms.Resize((Config.img_size, Config.img_size)),\n",
    "        transforms.ToTensor(),\n",
    "        transforms.Normalize([0.485, 0.456, 0.406], [0.229, 0.224, 0.225])\n",
    "    ])\n",
    "    \n",
    "    test_dataset = DeepfakeDataset(Config.test_path, transform=transform, is_test=True)\n",
    "    test_loader = DataLoader(test_dataset, batch_size=Config.batch_size, shuffle=False, num_workers=Config.num_workers, pin_memory=Config.pin_memory)\n",
    "    \n",
    "    model = EfficientNetModel().to(Config.device)\n",
    "    model.load_state_dict(torch.load('best_model_fold0.pth', map_location=Config.device))\n",
    "    model.eval()\n",
    "    \n",
    "    results = []\n",
    "    with torch.no_grad():\n",
    "        for images, image_ids in test_loader:\n",
    "            images = images.to(Config.device)\n",
    "            outputs = model(images).squeeze(1)\n",
    "            predictions = torch.sigmoid(outputs).cpu().numpy()\n",
    "            \n",
    "            for img_id, pred in zip(image_ids, predictions):\n",
    "                results.append({'id': img_id, 'label': int(pred > 0.5)})\n",
    "    \n",
    "    df = pd.DataFrame(results)\n",
    "    df.to_csv('submission.csv', index=False)\n",
    "    print(\"Predictions saved to submission.csv\")\n",
    "\n",
    "if __name__ == \"__main__\":\n",
    "    print(\"Starting testing...\")\n",
    "    test_model()\n"
   ]
  }
 ],
 "metadata": {
  "kernelspec": {
   "display_name": "Python 3 (ipykernel)",
   "language": "python",
   "name": "python3"
  },
  "language_info": {
   "codemirror_mode": {
    "name": "ipython",
    "version": 3
   },
   "file_extension": ".py",
   "mimetype": "text/x-python",
   "name": "python",
   "nbconvert_exporter": "python",
   "pygments_lexer": "ipython3",
   "version": "3.12.1"
  }
 },
 "nbformat": 4,
 "nbformat_minor": 5
}
