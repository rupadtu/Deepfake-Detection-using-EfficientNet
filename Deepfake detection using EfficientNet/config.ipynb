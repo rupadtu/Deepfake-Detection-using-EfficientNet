{
 "cells": [
  {
   "cell_type": "code",
   "execution_count": null,
   "id": "34e58bbd-19aa-4a5a-929e-feb0c483a20b",
   "metadata": {},
   "outputs": [],
   "source": [
    "import torch\n",
    "\n",
    "class Config:\n",
    "    device = torch.device('cuda' if torch.cuda.is_available() else 'cpu')\n",
    "    num_workers = 2 \n",
    "    pin_memory = True\n",
    "\n",
    "    model_name = 'efficientnet_b0'\n",
    "    img_size = 224\n",
    "    batch_size = 16\n",
    "    \n",
    "    epochs = 10\n",
    "    base_lr = 3e-4\n",
    "    weight_decay = 1e-5\n",
    "    gradient_clip = 1.0\n",
    "\n",
    "    train_path = '/kaggle/input/vista-25/dataset/train'\n",
    "    test_path = '/kaggle/input/vista-25/dataset/test'\n",
    "    n_folds = 5\n",
    "\n",
    "print(f\"Using device: {Config.device}\")"
   ]
  }
 ],
 "metadata": {
  "kernelspec": {
   "display_name": "Python 3 (ipykernel)",
   "language": "python",
   "name": "python3"
  },
  "language_info": {
   "codemirror_mode": {
    "name": "ipython",
    "version": 3
   },
   "file_extension": ".py",
   "mimetype": "text/x-python",
   "name": "python",
   "nbconvert_exporter": "python",
   "pygments_lexer": "ipython3",
   "version": "3.12.1"
  }
 },
 "nbformat": 4,
 "nbformat_minor": 5
}
