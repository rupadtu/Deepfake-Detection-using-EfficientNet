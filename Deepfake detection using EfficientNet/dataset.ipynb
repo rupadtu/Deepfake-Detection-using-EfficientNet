{
 "cells": [
  {
   "cell_type": "code",
   "execution_count": 1,
   "id": "49297569-d2f3-4f15-9787-832ce1956120",
   "metadata": {},
   "outputs": [
    {
     "ename": "ModuleNotFoundError",
     "evalue": "No module named 'config'",
     "output_type": "error",
     "traceback": [
      "\u001b[0;31m---------------------------------------------------------------------------\u001b[0m",
      "\u001b[0;31mModuleNotFoundError\u001b[0m                       Traceback (most recent call last)",
      "Cell \u001b[0;32mIn[1], line 5\u001b[0m\n\u001b[1;32m      3\u001b[0m \u001b[38;5;28;01mfrom\u001b[39;00m \u001b[38;5;21;01mPIL\u001b[39;00m \u001b[38;5;28;01mimport\u001b[39;00m Image\n\u001b[1;32m      4\u001b[0m \u001b[38;5;28;01mimport\u001b[39;00m \u001b[38;5;21;01mtorch\u001b[39;00m\n\u001b[0;32m----> 5\u001b[0m \u001b[38;5;28;01mfrom\u001b[39;00m \u001b[38;5;21;01mconfig\u001b[39;00m \u001b[38;5;28;01mimport\u001b[39;00m Config\n\u001b[1;32m      7\u001b[0m \u001b[38;5;28;01mclass\u001b[39;00m \u001b[38;5;21;01mDeepfakeDataset\u001b[39;00m(Dataset):\n\u001b[1;32m      8\u001b[0m     \u001b[38;5;28;01mdef\u001b[39;00m \u001b[38;5;21m__init__\u001b[39m(\u001b[38;5;28mself\u001b[39m, root_dir, transform\u001b[38;5;241m=\u001b[39m\u001b[38;5;28;01mNone\u001b[39;00m, is_test\u001b[38;5;241m=\u001b[39m\u001b[38;5;28;01mFalse\u001b[39;00m):\n",
      "\u001b[0;31mModuleNotFoundError\u001b[0m: No module named 'config'"
     ]
    }
   ],
   "source": [
    "import os\n",
    "from torch.utils.data import Dataset\n",
    "from PIL import Image\n",
    "import torch\n",
    "from config import Config\n",
    "\n",
    "class DeepfakeDataset(Dataset):\n",
    "    def __init__(self, root_dir, transform=None, is_test=False):\n",
    "        self.is_test = is_test\n",
    "        self.transform = transform\n",
    "        \n",
    "        if not is_test:\n",
    "            self.real_dir = os.path.join(root_dir, 'real')\n",
    "            self.fake_dir = os.path.join(root_dir, 'fake')\n",
    "            self.image_paths = []\n",
    "            self.labels = []\n",
    "\n",
    "            for img_name in os.listdir(self.real_dir):\n",
    "                self.image_paths.append(os.path.join(self.real_dir, img_name))\n",
    "                self.labels.append(1)\n",
    "\n",
    "            for img_name in os.listdir(self.fake_dir):\n",
    "                self.image_paths.append(os.path.join(self.fake_dir, img_name))\n",
    "                self.labels.append(0)\n",
    "        else:\n",
    "            self.image_paths = [os.path.join(root_dir, f) for f in sorted(os.listdir(root_dir))]\n",
    "            self.image_ids = [int(os.path.splitext(f)[0]) for f in sorted(os.listdir(root_dir))]\n",
    "    \n",
    "    def __len__(self):\n",
    "        return len(self.image_paths)\n",
    "    \n",
    "    def __getitem__(self, idx):\n",
    "        try:\n",
    "            image = Image.open(self.image_paths[idx]).convert('RGB')\n",
    "            if self.transform:\n",
    "                image = self.transform(image)\n",
    "            \n",
    "            if self.is_test:\n",
    "                return image, self.image_ids[idx]\n",
    "            else:\n",
    "                return image, torch.tensor(self.labels[idx], dtype=torch.float32)\n",
    "        except Exception as e:\n",
    "            print(f\"Error loading image {self.image_paths[idx]}: {e}\")\n",
    "            if self.is_test:\n",
    "                return torch.zeros((3, Config.img_size, Config.img_size)), self.image_ids[idx]\n",
    "            else:\n",
    "                return torch.zeros((3, Config.img_size, Config.img_size)), torch.tensor(self.labels[idx], dtype=torch.float32)\n"
   ]
  },
  {
   "cell_type": "code",
   "execution_count": null,
   "id": "d7587ec0-db9e-47d1-862d-e36c39d1c351",
   "metadata": {},
   "outputs": [],
   "source": []
  }
 ],
 "metadata": {
  "kernelspec": {
   "display_name": "Python 3 (ipykernel)",
   "language": "python",
   "name": "python3"
  },
  "language_info": {
   "codemirror_mode": {
    "name": "ipython",
    "version": 3
   },
   "file_extension": ".py",
   "mimetype": "text/x-python",
   "name": "python",
   "nbconvert_exporter": "python",
   "pygments_lexer": "ipython3",
   "version": "3.12.1"
  }
 },
 "nbformat": 4,
 "nbformat_minor": 5
}
